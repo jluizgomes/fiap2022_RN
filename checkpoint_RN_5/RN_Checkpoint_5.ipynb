{
 "cells": [
  {
   "cell_type": "markdown",
   "metadata": {
    "id": "K-zLj0B4E9sE"
   },
   "source": [
    "FIAP - Tecnólogo de Inteligência Artificial \n",
    "\n",
    "# Checkpoint 05 - Assistente Virtual\n",
    "\n",
    "Faça o exercício abaixo <font color=\"red\">em grupos de até 4 pessoas</font>, para praticar o uso de `bibliotecas de áudio`. Utilize os conceitos vistos em aula, e consulte materiais extras na internet. Em caso de dúvidas, contate o Prof. Michel. \n",
    "\n",
    "**Entrega**: 18/outubro/2022, via Teams - IMPORTANTE: renomeie o notebook incluindo seu nome! \n",
    "\n",
    "\n",
    "## Apresentação do trabalho\n",
    "\n",
    "Utilizando as bibliotecas de Python que vimos em aula, crie uma assistente virtual `comandada por voz` que seja capaz de realizar 3 comandos distintos: \n",
    "\n",
    "  1. A assistente deve receber informações de compromissos/lembretes e **registrá-los** numa \"agenda\" (para facilitar a \"agenda\" pode ser um arquivo TXT ou CSV, como preferirem)\n",
    "  2. A assistente deve informar os compromissos do dia (ex: ler o arquivo e falar os compromissos de uma data)\n",
    "  3. Crie um terceiro comando livre. Pode ser abrir um arquivo de música, programar um alarme ou timer, iniciar um programa qualquer do seu computador, fazer uma busca na web, retornar o tempo (clima) atual, etc... \n",
    "\n",
    "\n",
    "**Importante**: \n",
    "- a maioria os comandos principais você encontra no material visto em aula, seu maior desafio é encadear as funções com lógica de programação pertinente\n",
    "- você pode criar sua solução localmente ou na nuvem (Colab). Se for localmente, você pode precisar instalar bibliotecas específicas. Consulte o material extra do Prof Hellynson, disponível no Teams. Se usar o Colab, pode haver uma limitação de comandos que você pode implementar (ex: não é possível abrir um programa pelo Colab)\n",
    "- caso queira entregar o trabalho via Colab, lembre de compartilhar o conteúdo com qualquer pessoa que tenha o link e submeta um arquivo TXT no sistema de submissão com o link do seu trabalho. Renomeie o TXT com seu nome e deixe todas as saída executadas do Colab\n",
    "- caso queira implementar um comando de busca na internet, usem o site [DuckDuckGo](https://duckduckgo.com/) ao invés do Google! É mais fácil de utilizar, e existe uma [API](https://duckduckgo.com/api) para isso (OBS: ela não funciona com qualquer pesquisa, pois possui limitações). Por exemplo, a URL abaixo retorna a busca por \"FIAP\":\n",
    "\n",
    "    > https://api.duckduckgo.com/?q=fiap&format=json&pretty=1\n",
    "\n",
    "- Vejam como fazer requisições via URL [neste tutorial simples](https://www.treinaweb.com.br/blog/consumindo-apis-com-python-parte-1) usando a biblioteca `requests`: \n",
    "\n",
    "\n",
    "**Critérios de avaliação**: A correção do checkpoint será feita mediante os seguintes critérios:\n",
    "- implementação dos *três* comandos distintos\n",
    "- a interação com o sistema deve ser feita por *voz*\n",
    "- *lógica da programação correta* para registro, filtro e leitura dos eventos\n",
    "\n",
    "Bom trabalho! "
   ]
  },
  {
   "cell_type": "code",
   "execution_count": null,
   "metadata": {
    "id": "qbIMHG_FHmlF"
   },
   "outputs": [],
   "source": [
    "%pip install PyAudio SpeechRecognition pyttsx3 ffmpeg-python"
   ]
  },
  {
   "cell_type": "code",
   "execution_count": 1,
   "metadata": {},
   "outputs": [],
   "source": [
    "import os\n",
    "import speech_recognition as sr\n",
    "import pyttsx3\n",
    "from gtts import gTTS\n",
    "from IPython.display import Audio\n",
    "from datetime import datetime as dt\n",
    "from io import BytesIO"
   ]
  },
  {
   "cell_type": "code",
   "execution_count": 2,
   "metadata": {},
   "outputs": [],
   "source": [
    "listener = sr.Recognizer()"
   ]
  },
  {
   "cell_type": "code",
   "execution_count": 3,
   "metadata": {},
   "outputs": [],
   "source": [
    "def take_command():\n",
    "    try:\n",
    "        with sr.Microphone() as source:\n",
    "            print('Escutando...')\n",
    "            voice = listener.listen(source)\n",
    "            command = listener.recognize_google(voice, language='pt_BR')\n",
    "            command = command.lower()\n",
    "            print(command)\n",
    "    except:\n",
    "        pass\n",
    "    return command"
   ]
  },
  {
   "cell_type": "code",
   "execution_count": 4,
   "metadata": {},
   "outputs": [],
   "source": [
    "def run_assistant():\n",
    "    command = take_command()\n",
    "    if 'grave' in command:\n",
    "        scheduleReminders()\n",
    "    elif 'leia' in command:\n",
    "        showReminders()\n",
    "    elif 'hora' in command:\n",
    "        sayWhatTimeIs()\n",
    "    else:\n",
    "        talk('Não entendi o que você quis dizer')\n",
    "        take_command()\n",
    "    "
   ]
  },
  {
   "cell_type": "code",
   "execution_count": 5,
   "metadata": {},
   "outputs": [],
   "source": [
    "def talk(text):\n",
    "    mp3_fp = BytesIO()\n",
    "    tts = gTTS(text, lang='pt', tld='com.br')\n",
    "    tts.save('say.mp3')\n",
    "    display(Audio('say.mp3', autoplay=True))\n",
    "#     os.system(\"afplay say.mp3\")"
   ]
  },
  {
   "cell_type": "code",
   "execution_count": 6,
   "metadata": {},
   "outputs": [],
   "source": [
    "def scheduleReminders():\n",
    "    print('Gravando seu lembrete...')\n",
    "    talk('Claro, o que você deseja lembrar?')\n",
    "    lembrete = take_command()\n",
    "    \n",
    "    with open('lembrete.txt', 'a') as f:\n",
    "        f.write(lembrete)\n",
    "        f.write('\\n')\n",
    "        \n",
    "    print('Lembrete gravado!')\n",
    "    talk(f'Pronto, seu lembrete de {lembrete}, está marcado.')"
   ]
  },
  {
   "cell_type": "code",
   "execution_count": 7,
   "metadata": {},
   "outputs": [],
   "source": [
    "def showReminders():\n",
    "    print('Falar lembrete')\n",
    "    talk('Você deseja que eu fale apenas um lembrete ou todos os lembretes?')\n",
    "    falar = take_command()\n",
    "    with open('lembrete.txt', 'r') as f:\n",
    "        if 'todos' in falar:\n",
    "            contents = f.readlines()\n",
    "            for content in contents:\n",
    "                print(content)\n",
    "                talk(content)\n",
    "        elif 'apenas' in falar:\n",
    "            content = f.readline()\n",
    "            print(content)\n",
    "            talk(content)\n",
    "        f.close()\n",
    "    talk('Pronto, esses foram os seus lembretes')"
   ]
  },
  {
   "cell_type": "code",
   "execution_count": 8,
   "metadata": {},
   "outputs": [],
   "source": [
    "def sayWhatTimeIs():\n",
    "    currentTime = dt.now().strftime(\"%H:%M %p\")\n",
    "    print(currentTime)\n",
    "    talk(f'São exatamente {currentTime}')"
   ]
  },
  {
   "cell_type": "code",
   "execution_count": 9,
   "metadata": {},
   "outputs": [
    {
     "name": "stdout",
     "output_type": "stream",
     "text": [
      "Escutando...\n",
      "me diga a hora atual\n",
      "13:40 PM\n"
     ]
    },
    {
     "data": {
      "text/html": [
       "\n",
       "                <audio  controls=\"controls\" autoplay=\"autoplay\">\n",
       "                    <source src=\"data:audio/mpeg;base64,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\" type=\"audio/mpeg\" />\n",
       "                    Your browser does not support the audio element.\n",
       "                </audio>\n",
       "              "
      ],
      "text/plain": [
       "<IPython.lib.display.Audio object>"
      ]
     },
     "metadata": {},
     "output_type": "display_data"
    }
   ],
   "source": [
    "run_assistant()"
   ]
  },
  {
   "cell_type": "code",
   "execution_count": null,
   "metadata": {},
   "outputs": [],
   "source": []
  }
 ],
 "metadata": {
  "colab": {
   "provenance": []
  },
  "kernelspec": {
   "display_name": "Python 3 (ipykernel)",
   "language": "python",
   "name": "python3"
  },
  "language_info": {
   "codemirror_mode": {
    "name": "ipython",
    "version": 3
   },
   "file_extension": ".py",
   "mimetype": "text/x-python",
   "name": "python",
   "nbconvert_exporter": "python",
   "pygments_lexer": "ipython3",
   "version": "3.10.5"
  }
 },
 "nbformat": 4,
 "nbformat_minor": 4
}
